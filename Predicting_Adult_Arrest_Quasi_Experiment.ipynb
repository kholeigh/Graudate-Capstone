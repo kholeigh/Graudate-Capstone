{
  "nbformat": 4,
  "nbformat_minor": 0,
  "metadata": {
    "colab": {
      "provenance": [],
      "authorship_tag": "ABX9TyPfm2xkRQ0+rNNd9RcQj+nx",
      "include_colab_link": true
    },
    "kernelspec": {
      "name": "python3",
      "display_name": "Python 3"
    },
    "language_info": {
      "name": "python"
    }
  },
  "cells": [
    {
      "cell_type": "markdown",
      "metadata": {
        "id": "view-in-github",
        "colab_type": "text"
      },
      "source": [
        "<a href=\"https://colab.research.google.com/github/kholeigh/Graudate-Capstone/blob/main/Predicting_Adult_Arrest_Quasi_Experiment.ipynb\" target=\"_parent\"><img src=\"https://colab.research.google.com/assets/colab-badge.svg\" alt=\"Open In Colab\"/></a>"
      ]
    },
    {
      "cell_type": "code",
      "execution_count": null,
      "metadata": {
        "id": "uGT6hrotw4VO"
      },
      "outputs": [],
      "source": [
        "#import necessary libraries\n",
        "\n",
        "import pandas as pd\n",
        "import numpy as np\n",
        "from sklearn.linear_model import LogisticRegression\n",
        "from sklearn.preprocessing import LabelEncoder\n",
        "from sklearn.neighbors import NearestNeighbors\n",
        "from sklearn.metrics import classification_report\n",
        "\n",
        "\n"
      ]
    },
    {
      "cell_type": "code",
      "source": [
        "from google.colab import drive\n",
        "drive.mount ('/content/drive')"
      ],
      "metadata": {
        "colab": {
          "base_uri": "https://localhost:8080/"
        },
        "id": "XNV9ChrGxPDa",
        "outputId": "e0f38273-e25a-497d-8075-84be357c5f3e"
      },
      "execution_count": null,
      "outputs": [
        {
          "output_type": "stream",
          "name": "stdout",
          "text": [
            "Mounted at /content/drive\n"
          ]
        }
      ]
    },
    {
      "cell_type": "code",
      "source": [
        "#load dataset into colab\n",
        "top_3_arrests = pd.read_csv('/content/drive/MyDrive/Adult_Arrests.csv')"
      ],
      "metadata": {
        "colab": {
          "base_uri": "https://localhost:8080/"
        },
        "id": "VmESX3n8xWi7",
        "outputId": "98ee55d0-0fd4-4d31-aea8-d0004b1adb90"
      },
      "execution_count": null,
      "outputs": [
        {
          "output_type": "stream",
          "name": "stderr",
          "text": [
            "<ipython-input-4-478767af197f>:2: DtypeWarning: Columns (7,20,27,28) have mixed types. Specify dtype option on import or set low_memory=False.\n",
            "  top_3_arrests = pd.read_csv('/content/drive/MyDrive/Adult_Arrests.csv')\n"
          ]
        }
      ]
    },
    {
      "cell_type": "code",
      "source": [
        "print(top_3_arrests.dtypes)  # Check column data types\n",
        "print(top_3_arrests.iloc[:, [7, 20, 27, 28]])  # View the problematic columns\n"
      ],
      "metadata": {
        "colab": {
          "base_uri": "https://localhost:8080/"
        },
        "id": "0-xrfuZ0yFqZ",
        "outputId": "72ec17a2-67ec-4d8f-ecf4-9698ef1461d5"
      },
      "execution_count": null,
      "outputs": [
        {
          "output_type": "stream",
          "name": "stdout",
          "text": [
            "TYPE                   object\n",
            "YEAR                    int64\n",
            "DATE_                  object\n",
            "HOUR                    int64\n",
            "CCN                    object\n",
            "ARREST_NUMBER          object\n",
            "AGE                     int64\n",
            "DEFENDANT_PSA          object\n",
            "DEFENDANT_DISTRICT     object\n",
            "RACE                   object\n",
            "ETHNICITY              object\n",
            "SEX                    object\n",
            "CATEGORY               object\n",
            "DESCRIPTION            object\n",
            "ARREST_PSA            float64\n",
            "ARREST_DISTRICT        object\n",
            "ARREST_BLOCKX         float64\n",
            "ARREST_BLOCKY         float64\n",
            "OFFENSE_BLOCKY        float64\n",
            "OFFENSE_BLOCKX        float64\n",
            "OFFENSE_PSA            object\n",
            "OFFENSE_DISTRICT       object\n",
            "ARREST_LATITUDE       float64\n",
            "ARREST_LONGITUDE      float64\n",
            "OFFENSE_LATITUDE      float64\n",
            "OFFENSE_LONGITUDE     float64\n",
            "GIS_ID                 object\n",
            "CREATOR                object\n",
            "CREATED                object\n",
            "EDITOR                 object\n",
            "EDITED                 object\n",
            "GLOBALID               object\n",
            "OBJECTID                int64\n",
            "dtype: object\n",
            "       DEFENDANT_PSA OFFENSE_PSA CREATOR                 CREATED\n",
            "0       Out of State         NaN     NaN                     NaN\n",
            "1                602       602.0     NaN                     NaN\n",
            "2       Out of State         NaN     NaN                     NaN\n",
            "3                502         NaN     NaN                     NaN\n",
            "4                702         NaN     NaN                     NaN\n",
            "...              ...         ...     ...                     ...\n",
            "259870         506.0       507.0    JLAY  2023/09/27 19:57:26+00\n",
            "259871         701.0       604.0    JLAY  2023/09/27 19:57:26+00\n",
            "259872         701.0       701.0    JLAY  2023/09/27 19:57:26+00\n",
            "259873         502.0       307.0    JLAY  2023/09/27 19:57:26+00\n",
            "259874         101.0       604.0    JLAY  2023/09/27 19:57:26+00\n",
            "\n",
            "[259875 rows x 4 columns]\n"
          ]
        }
      ]
    },
    {
      "cell_type": "code",
      "source": [
        "# Define the problematic columns to drop\n",
        "problematic_columns = ['DEFENDANT_PSA', 'OFFENSE_PSA', 'CREATOR', 'CREATED']\n",
        "\n",
        "# Drop the problematic columns\n",
        "top_3_arrests = top_3_arrests.drop(columns=problematic_columns, errors='ignore')\n",
        "\n",
        "# Confirm the changes\n",
        "print(top_3_arrests.info())\n"
      ],
      "metadata": {
        "colab": {
          "base_uri": "https://localhost:8080/"
        },
        "id": "sVRXnhn3y1aY",
        "outputId": "9e291233-e40d-488f-8a13-773669f6f65f"
      },
      "execution_count": null,
      "outputs": [
        {
          "output_type": "stream",
          "name": "stdout",
          "text": [
            "<class 'pandas.core.frame.DataFrame'>\n",
            "RangeIndex: 259875 entries, 0 to 259874\n",
            "Data columns (total 29 columns):\n",
            " #   Column              Non-Null Count   Dtype  \n",
            "---  ------              --------------   -----  \n",
            " 0   TYPE                259875 non-null  object \n",
            " 1   YEAR                259875 non-null  int64  \n",
            " 2   DATE_               259875 non-null  object \n",
            " 3   HOUR                259875 non-null  int64  \n",
            " 4   CCN                 259832 non-null  object \n",
            " 5   ARREST_NUMBER       259875 non-null  object \n",
            " 6   AGE                 259875 non-null  int64  \n",
            " 7   DEFENDANT_DISTRICT  225022 non-null  object \n",
            " 8   RACE                259875 non-null  object \n",
            " 9   ETHNICITY           213976 non-null  object \n",
            " 10  SEX                 259875 non-null  object \n",
            " 11  CATEGORY            259863 non-null  object \n",
            " 12  DESCRIPTION         259834 non-null  object \n",
            " 13  ARREST_PSA          258224 non-null  float64\n",
            " 14  ARREST_DISTRICT     258285 non-null  object \n",
            " 15  ARREST_BLOCKX       257849 non-null  float64\n",
            " 16  ARREST_BLOCKY       257849 non-null  float64\n",
            " 17  OFFENSE_BLOCKY      259057 non-null  float64\n",
            " 18  OFFENSE_BLOCKX      259057 non-null  float64\n",
            " 19  OFFENSE_DISTRICT    259337 non-null  object \n",
            " 20  ARREST_LATITUDE     257348 non-null  float64\n",
            " 21  ARREST_LONGITUDE    257348 non-null  float64\n",
            " 22  OFFENSE_LATITUDE    259057 non-null  float64\n",
            " 23  OFFENSE_LONGITUDE   259057 non-null  float64\n",
            " 24  GIS_ID              259875 non-null  object \n",
            " 25  EDITOR              259875 non-null  object \n",
            " 26  EDITED              259875 non-null  object \n",
            " 27  GLOBALID            259875 non-null  object \n",
            " 28  OBJECTID            259875 non-null  int64  \n",
            "dtypes: float64(9), int64(4), object(16)\n",
            "memory usage: 57.5+ MB\n",
            "None\n"
          ]
        }
      ]
    },
    {
      "cell_type": "code",
      "source": [
        "\n",
        "\n",
        "# Step 1: Define the dataset\n",
        "label_encoder = LabelEncoder()\n",
        "\n",
        "# Encode categorical variables\n",
        "top_3_arrests['RACE'] = label_encoder.fit_transform(top_3_arrests['RACE'])\n",
        "top_3_arrests['SEX'] = label_encoder.fit_transform(top_3_arrests['SEX'])\n",
        "top_3_arrests['CATEGORY'] = label_encoder.fit_transform(top_3_arrests['CATEGORY'])\n",
        "\n",
        "# Step 2: Define treatment (Simple Assault as treated group)\n",
        "top_3_arrests['TREATED'] = (top_3_arrests['CATEGORY'] == label_encoder.transform(['Simple Assault'])[0]).astype(int)\n",
        "\n",
        "# Step 3: Define features (RACE and SEX) and the treatment variable\n",
        "X = top_3_arrests[['RACE', 'SEX']]  # Features\n",
        "T = top_3_arrests['TREATED']       # Treatment indicator\n",
        "\n",
        "# Step 4: Estimate propensity scores using logistic regression\n",
        "log_reg = LogisticRegression(max_iter=1000)\n",
        "log_reg.fit(X, T)\n",
        "top_3_arrests['PROPENSITY_SCORE'] = log_reg.predict_proba(X)[:, 1]\n",
        "\n",
        "# Step 5: Match treated and control groups using propensity scores\n",
        "treated = top_3_arrests[top_3_arrests['TREATED'] == 1]\n",
        "control = top_3_arrests[top_3_arrests['TREATED'] == 0]\n",
        "\n",
        "# Use nearest neighbor matching based on propensity scores\n",
        "nn = NearestNeighbors(n_neighbors=1, metric='euclidean')\n",
        "nn.fit(control[['PROPENSITY_SCORE']])\n",
        "distances, indices = nn.kneighbors(treated[['PROPENSITY_SCORE']])\n",
        "matched_control = control.iloc[indices.flatten()]\n",
        "\n",
        "# Combine treated and matched control\n",
        "matched_data = pd.concat([treated, matched_control])\n",
        "\n",
        "# Step 6: Evaluate treatment effect\n",
        "# Compare outcomes between treated and matched control groups\n",
        "treated_mean = matched_data[matched_data['TREATED'] == 1]['CATEGORY'].mean()\n",
        "control_mean = matched_data[matched_data['TREATED'] == 0]['CATEGORY'].mean()\n",
        "\n",
        "treatment_effect = treated_mean - control_mean\n",
        "print(f\"Estimated Treatment Effect (ATE): {treatment_effect}\")\n",
        "\n",
        "# Step 7: Optional - Visualize propensity score distributions\n",
        "import matplotlib.pyplot as plt\n",
        "\n",
        "plt.hist(treated['PROPENSITY_SCORE'], bins=20, alpha=0.5, label='Treated')\n",
        "plt.hist(control['PROPENSITY_SCORE'], bins=20, alpha=0.5, label='Control')\n",
        "plt.xlabel('Propensity Score')\n",
        "plt.ylabel('Frequency')\n",
        "plt.title('Propensity Score Distribution')\n",
        "plt.legend()\n",
        "plt.show()\n"
      ],
      "metadata": {
        "colab": {
          "base_uri": "https://localhost:8080/",
          "height": 490
        },
        "id": "z28aopkTzCm5",
        "outputId": "14f62fd5-92b8-48a1-c806-1f818c23ae2c"
      },
      "execution_count": null,
      "outputs": [
        {
          "output_type": "stream",
          "name": "stdout",
          "text": [
            "Estimated Treatment Effect (ATE): 14.093674030698253\n"
          ]
        },
        {
          "output_type": "display_data",
          "data": {
            "text/plain": [
              "<Figure size 640x480 with 1 Axes>"
            ],
            "image/png": "[encoded data removed]"
          },
          "metadata": {}
        }
      ]
    }
  ]
}